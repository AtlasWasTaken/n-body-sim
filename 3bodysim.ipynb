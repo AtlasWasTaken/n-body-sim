{
 "cells": [
  {
   "cell_type": "code",
   "execution_count": 112,
   "metadata": {},
   "outputs": [],
   "source": [
    "import numpy as np\n",
    "import matplotlib.pyplot as plt\n",
    "from numba import njit\n",
    "plt.style.use('dark_background')"
   ]
  },
  {
   "cell_type": "markdown",
   "metadata": {},
   "source": [
    "---\n",
    "# Defining functions"
   ]
  },
  {
   "cell_type": "code",
   "execution_count": 113,
   "metadata": {},
   "outputs": [],
   "source": [
    "@njit\n",
    "def check_pos(n, random_pos, pos_list, rad):\n",
    "    ''' Checks if two generated bodies are on top of one another to start with.\n",
    "    This is to avoid immediate collisions & accelerations going to infinity. '''\n",
    "    for index, pos in enumerate(pos_list):\n",
    "        dist = np.sqrt((pos[0] - random_pos[0])**2 + (pos[1] - random_pos[1])**2)\n",
    "        if dist * 1.5e11 < (rad[n] + rad[index]):\n",
    "            return False\n",
    "    return True"
   ]
  },
  {
   "cell_type": "code",
   "execution_count": 114,
   "metadata": {},
   "outputs": [],
   "source": [
    "@njit\n",
    "def gen_pos(n_bodies, pos, rad, pos_range):\n",
    "    ''' Generate random position for n_bodies, fills up pos '''\n",
    "    pos_min, pos_max = pos_range\n",
    "    for n in range(n_bodies):\n",
    "        accept_pos = False\n",
    "        while accept_pos == False:\n",
    "            random_pos = np.random.uniform(pos_min, pos_max, 2)\n",
    "            accept_pos = check_pos(n, random_pos, pos, rad)\n",
    "            if accept_pos == True:\n",
    "                pos[n] = random_pos\n",
    "    \n",
    "    return pos * 1.5e11 # convert from AU to m (SI)"
   ]
  },
  {
   "cell_type": "code",
   "execution_count": 115,
   "metadata": {},
   "outputs": [],
   "source": [
    "@njit\n",
    "def gen_vel(n_bodies, vel, v_range):\n",
    "    ''' Generates intial velocities in the v_range '''\n",
    "    v_min, v_max = v_range\n",
    "    for n in range(n_bodies):\n",
    "        vel[n] = np.random.uniform(v_min, v_max, 2)\n",
    "    \n",
    "    return vel"
   ]
  },
  {
   "cell_type": "code",
   "execution_count": 116,
   "metadata": {},
   "outputs": [],
   "source": [
    "@njit\n",
    "def get_init(n_bodies, pos_range=(-25, 25), v_range=(-7e3, 7e3)):\n",
    "    ''' Generates initial conditions. \n",
    "    n_bodies is the amount of bodies, obviously,\n",
    "    pos_range determines the range of positions initially given to bodies, default: +/- 25 AU\n",
    "    25 AU seems like a reasonable distance for objects of stellar mass to move in\n",
    "    v_range determines the range of velocities initially given to bodies, default: +/- 7,000 m/s \n",
    "    returns matrices of positions and velocities (n, 2), where 2 is the number of dimensions - up to 3 if adding a 3rd dimension\n",
    "            as well as arrays of mass and radius of each body (n length)\n",
    "            all in SI units, hopefully\n",
    "    '''\n",
    "    m = np.random.uniform(1, 1500, n_bodies) / 10  # random mass between 0.1 and 150 solar masses\n",
    "    rad = m**0.8  # estimate the radius based on mass in solar units\n",
    "    m *= 2e30  # convert to SI\n",
    "    rad *= 7e8  # convert to SI\n",
    "    \n",
    "    pos = np.zeros((n_bodies, 2))\n",
    "    pos = gen_pos(n_bodies, pos, rad, pos_range)\n",
    "    \n",
    "    vel = np.zeros((n_bodies, 2))\n",
    "    vel = gen_vel(n_bodies, vel, v_range)\n",
    "    \n",
    "    return pos, vel, m, rad  # units: m, m/s, kg, m"
   ]
  },
  {
   "cell_type": "code",
   "execution_count": 117,
   "metadata": {},
   "outputs": [],
   "source": [
    "@njit\n",
    "def get_dist(pos_list, index, i):\n",
    "    ''' Calculates the distance between two points in the pos_list based on their indices. '''\n",
    "    dx = pos_list[index, 0] - pos_list[i, 0]\n",
    "    dy = pos_list[index, 1] - pos_list[i, 1]\n",
    "    return np.sqrt( dx**2 + dy**2 )"
   ]
  },
  {
   "cell_type": "code",
   "execution_count": 118,
   "metadata": {},
   "outputs": [],
   "source": [
    "@njit\n",
    "def get_acc(acc, body, pos, m, G = 6.6743e-11):\n",
    "    ''' Calculates acceleration (x, y) for one object based on its distance to all other objects in the pos list.\n",
    "    acc is the acceleration vector, body is the index for the selected body in the list\n",
    "    pos is the list of positions, m is the list of masses, G is the gravitational constant, default: 6.6743e-11\n",
    "    '''\n",
    "    for i in range(len(pos)):\n",
    "        if body != i:\n",
    "            r = get_dist(pos, body, i)\n",
    "            acc[0] = G * m[i] / r**3 * (pos[i, 0] - pos[body, 0])\n",
    "            acc[1] = G * m[i] / r**3 * (pos[i, 1] - pos[body, 1])\n",
    "    return acc"
   ]
  },
  {
   "cell_type": "code",
   "execution_count": 134,
   "metadata": {},
   "outputs": [],
   "source": [
    "def step(pos, vel, acc, m, rad, steps, dt, escape_lim = 50, speed_limit = False, periodic = False):\n",
    "    ''' function that updates the position of each body each timestep \n",
    "    checks for collissions, optionally checks if any body is passing light speed, \n",
    "    and if any body is exceeding the simulation limits: if periodic is true, moves the body to the opposite side of the sim.\n",
    "    '''\n",
    "    tf = 0\n",
    "    for t in range(steps-1):  # run through every timestep\n",
    "        for body in range(len(pos)):  # for every body\n",
    "            # Calculate acceleration for next timestep\n",
    "            acc[body, :, t+1] = get_acc(acc[body, :, t], body, pos[:, :, t], m)\n",
    "            \n",
    "            # Calculating velocity\n",
    "            next_v = vel[body, :, t] + acc[body, :, t] * dt  # velocity for next step\n",
    "            if speed_limit:\n",
    "                if np.sqrt(next_v[0]**2 + next_v[1]**2) < 3e8:  # only update if speed is lower than c (3e8)\n",
    "                    vel[body, :, t+1] = next_v\n",
    "            elif speed_limit != True:\n",
    "                vel[body, :, t+1] = next_v\n",
    "            \n",
    "            # Calculating position\n",
    "            pos[body, :, t+1] = pos[body, :, t] + vel[body, :, t] * dt  # position for next step\n",
    "            \n",
    "            # Check if any body has escaped\n",
    "            if np.where(np.abs(pos[body, :, t+1]) > escape_lim * 1.5e11, True, False).any():  \n",
    "                tf = t\n",
    "                if periodic:  # if periodic universe\n",
    "                    if np.abs(pos[body, 0, t+1]) > escape_lim * 1.5e11:  # x-direction loop-back\n",
    "                        pos[body, 0, t+1] = -1 * np.sign(pos[body, 0, t+1]) * escape_lim * 1.5e11\n",
    "                        print(f'Body {body} has looped. Pos_x set to {pos[body, 0, t+1]/1.5e11} from {pos[body, 0, t]/1.5e11} ({np.sign(pos[body, 0, t+1])})')\n",
    "                    \n",
    "                    if np.abs(pos[body, 1, t+1]) > escape_lim * 1.5e11:  # y-direction loop-back\n",
    "                        pos[body, 1, t+1] = -1 * np.sign(pos[body, 1, t+1]) * escape_lim * 1.5e11\n",
    "                        print(f'Body {body} has looped. Pos_y set to {pos[body, 1, t+1]/1.5e11} from {pos[body, 1, t]/1.5e11} ({np.sign(pos[body, 1, t+1])})')\n",
    "                \n",
    "                elif periodic != True:\n",
    "                    print(f'Stop at t = {t} of {steps}: Body {body} ejected, final pos at ({np.round(pos[body, 0, t+1]/1.5e11,2)}, {np.round(pos[body, 1, t+1]/1.5e11)}) AU')\n",
    "                    return pos, vel, m, rad, tf  # units: m, m/s, solar mass, solar radius, _\n",
    "            \n",
    "            # Check if any bodies have collided\n",
    "            for other_body in range(len(pos)):\n",
    "                if body != other_body:\n",
    "                    dist = np.sqrt( (pos[body, 0, t] - pos[other_body, 0, t])**2 + (pos[body, 1, t] - pos[other_body, 1, t])**2 )\n",
    "                    if dist < (rad[body] + rad[other_body]):\n",
    "                        tf = t\n",
    "                        print(f'Stop at t = {t} of {steps}: Collision between body {body} and {other_body}')\n",
    "                        return pos, vel, m, rad, tf  # units: m, m/s, solar mass, solar radius, _\n",
    "    \n",
    "    return pos, vel, m, rad, tf  # units: m, m/s, solar mass, solar radius, _"
   ]
  },
  {
   "cell_type": "code",
   "execution_count": 120,
   "metadata": {},
   "outputs": [],
   "source": [
    "def write_outfile(outfile, n, pos, vel, m, rad):\n",
    "    ''' Writes initial conditions to a text file with a given name. '''\n",
    "    f = open(f'{outfile}.txt', 'w')\n",
    "    f.write(f'Initial conditions: #, m, rad, (x, y), (vx, vy) \\n')\n",
    "    for ns in range(n):\n",
    "        f.write(f'Object {ns} with {m[ns]/2e30:.2f} solar masses and {rad[ns]/7e8:.2f} solar radii, ')\n",
    "        f.write(f'at pos: ({pos[ns, 0, 0]:.1f}, {pos[ns, 1, 0]:.1f}) AU, ')\n",
    "        f.write(f'v: ({vel[ns, 0, 0]:.2f}, {vel[ns, 1, 0]:.2f}) m/s\\n')\n",
    "    f.close()"
   ]
  },
  {
   "cell_type": "code",
   "execution_count": 121,
   "metadata": {},
   "outputs": [],
   "source": [
    "def main(n = 3, steps = 50, dt = 1, infile = None, outfile = None, speed_limit = True, periodic = False):  # add outfile='initialconditions' for file\n",
    "    ''' Main function to run simulation.\n",
    "    n is the amount of bodies, steps is how many timesteps, dt is the stepsize\n",
    "    outfile is the string name for a text file to write initial conditions to\n",
    "    simple explanation is: generate empty arrays of dimensions (n, 2, steps), so:\n",
    "    nr. of bodies, nr. of dimensions (2), and nr. of timesteps.\n",
    "    insert initial values -> update for every step in t by calculating acceleration -> velocity -> position with the step function\n",
    "    returns values in astronomical units (AU, m/s, solar mass, solar radii)\n",
    "    '''\n",
    "    pos = np.zeros((n, 2, steps))\n",
    "    vel = np.zeros((n, 2, steps))\n",
    "    acc = np.zeros((n, 2, steps))\n",
    "    \n",
    "    if not infile:\n",
    "        pos[:, :, 0], vel[:, :, 0], m, rad = get_init(n)\n",
    "    elif infile:\n",
    "        pos[:, :, 0], vel[:, :, 0], m, rad = infile\n",
    "    \n",
    "    pos, vel, m, rad, tf = step(pos, vel, acc, m, rad, steps, dt, speed_limit = speed_limit, periodic = periodic)\n",
    "    \n",
    "    if outfile:\n",
    "        write_outfile(outfile, n, pos, vel, m, rad)  # writes the initial conditions to a text file\n",
    "    \n",
    "    return pos/1.5e11, vel, m/2e30, rad/7e8, tf # units: AU, m/s, solar mass, solar radius, _"
   ]
  },
  {
   "cell_type": "code",
   "execution_count": 122,
   "metadata": {},
   "outputs": [
    {
     "name": "stdout",
     "output_type": "stream",
     "text": [
      "Stop at t = 628 of 2500: Collision between body 1 and 2\n",
      "Stop at t = 108 of 2500: Collision between body 1 and 2\n",
      "Stop at t = 1093 of 2500: Body 0 ejected, final pos at (19.98, -100.0) AU\n",
      "Stop at t = 148 of 2500: Collision between body 1 and 2\n",
      "Stop at t = 2342 of 2500: Body 2 ejected, final pos at (31.85, -100.0) AU\n",
      "Found a sim in 4 attempts!\n"
     ]
    }
   ],
   "source": [
    "# Generate random simulation that lasts 0.75 * steps, at least\n",
    "n = 3\n",
    "steps = 2500\n",
    "dt = 3e-3 * 365 * 24 * 60 * 60\n",
    "tf = 0\n",
    "pos, vel, m, rad, tf = main(n, steps, dt)\n",
    "attempts = 0\n",
    "while tf < steps * 0.75:\n",
    "    pos, vel, m, rad, tf = main(n, steps, dt)\n",
    "    attempts += 1\n",
    "print(f'Found a sim in {attempts} attempts!')"
   ]
  },
  {
   "cell_type": "markdown",
   "metadata": {},
   "source": [
    "---\n",
    "# Gif creation"
   ]
  },
  {
   "cell_type": "code",
   "execution_count": 123,
   "metadata": {},
   "outputs": [],
   "source": [
    "from celluloid import Camera"
   ]
  },
  {
   "cell_type": "code",
   "execution_count": 124,
   "metadata": {},
   "outputs": [],
   "source": [
    "def get_cmap(n, name='hsv'):\n",
    "    '''Returns a function that maps each index in 0, 1, ..., n-1 to a distinct \n",
    "    RGB color; the keyword argument name must be a standard mpl colormap name.'''\n",
    "    return plt.cm.get_cmap(name, 2*n)\n",
    "cmap = get_cmap(n)"
   ]
  },
  {
   "cell_type": "code",
   "execution_count": 125,
   "metadata": {},
   "outputs": [
    {
     "data": {
      "image/png": "[encoded data removed]",
      "text/plain": [
       "<Figure size 288x288 with 1 Axes>"
      ]
     },
     "metadata": {},
     "output_type": "display_data"
    }
   ],
   "source": [
    "# Plot initial condition:\n",
    "fig = plt.figure(figsize=(4, 4))\n",
    "for n_body in range(n):\n",
    "    plt.scatter(pos[n_body, 0, 0], pos[n_body, 1, 0], s=rad[n_body], color=cmap(n_body), label=f'M = {m[n_body]:.2f}')\n",
    "plt.legend()\n",
    "plt.xlabel('x (AU)')\n",
    "plt.ylabel('y (AU)')\n",
    "plt.show()"
   ]
  },
  {
   "cell_type": "code",
   "execution_count": 126,
   "metadata": {},
   "outputs": [
    {
     "name": "stderr",
     "output_type": "stream",
     "text": [
      "MovieWriter ffmpeg unavailable; using Pillow instead.\n"
     ]
    },
    {
     "data": {
      "image/png": "[encoded data removed]",
      "text/plain": [
       "<Figure size 576x576 with 1 Axes>"
      ]
     },
     "metadata": {},
     "output_type": "display_data"
    }
   ],
   "source": [
    "# Create gif\n",
    "fig = plt.figure(figsize=(8, 8))\n",
    "camera = Camera(fig)\n",
    "plt.xlim(-50, 50)\n",
    "plt.ylim(-50, 50)\n",
    "\n",
    "# Background stars\n",
    "x, y = np.random.uniform(-50, 50, n**3), np.random.uniform(-50, 50, n**3)\n",
    "tail = int(tf/10)\n",
    "\n",
    "report_freq = steps/100\n",
    "for t in range(tf):\n",
    "    if t % report_freq == 0:\n",
    "        plt.scatter(x,  y, s=1, color='white')\n",
    "        for n_body in range(n):\n",
    "            if t == 0:\n",
    "                plt.scatter(pos[n_body, 0, t], pos[n_body, 1, t], s=rad[n_body], color=cmap(n_body), label=f'M = {m[n_body]:.2f}')\n",
    "            elif t != 0:\n",
    "                plt.scatter(pos[n_body, 0, t], pos[n_body, 1, t], s=rad[n_body], color=cmap(n_body))\n",
    "            prev_pos = pos[n_body, :, int(max(t - tail, 0)):t + 1]\n",
    "            plt.plot(prev_pos[0], prev_pos[1], alpha=1/2, color=cmap(n_body))\n",
    "        \n",
    "        plt.legend()\n",
    "        plt.xlabel('x (AU)')\n",
    "        plt.ylabel('y (AU)')\n",
    "        camera.snap()\n",
    "\n",
    "animation = camera.animate(interval=30)\n",
    "animation.save('nbody.gif')"
   ]
  },
  {
   "cell_type": "markdown",
   "metadata": {},
   "source": [
    "---\n",
    "# Figure 8"
   ]
  },
  {
   "cell_type": "code",
   "execution_count": 127,
   "metadata": {},
   "outputs": [],
   "source": [
    "# Attempt at creating the figure-8 stable 3-body configuration\n",
    "n = 3\n",
    "steps = 3000\n",
    "dt = 1e5\n",
    "\n",
    "# Create initial conditions as initfile\n",
    "pos0 = np.array([[-1, 0], [1, 0], [0, 0]]) * 1.5e11\n",
    "p1, p2 = 0.347111, 0.532728\n",
    "vel0 = np.array([[p1, p2], [p1, p2], [-2*p1, -2*p2]])\n",
    "vel0 *= 7e3\n",
    "m0 = np.array([1, 1, 1])*2e29\n",
    "rad0 = m**0.8\n",
    "initfile = pos0, vel0, m0, rad0\n",
    "# Create entire simulation\n",
    "pos, vel, m, rad, tf = main(n, steps, dt, infile=initfile)\n",
    "\n",
    "# Background stars\n",
    "minx, miny, maxx, maxy = np.min(pos[:, 0, :]), np.min(pos[:, 1, :]), np.max(pos[:, 0, :]), np.max(pos[:, 1, :])\n",
    "x, y = np.random.uniform(minx, maxx, n**4), np.random.uniform(miny, maxy, n**4)\n"
   ]
  },
  {
   "cell_type": "code",
   "execution_count": 128,
   "metadata": {},
   "outputs": [
    {
     "name": "stderr",
     "output_type": "stream",
     "text": [
      "MovieWriter ffmpeg unavailable; using Pillow instead.\n"
     ]
    },
    {
     "data": {
      "image/png": "[encoded data removed]",
      "text/plain": [
       "<Figure size 576x576 with 1 Axes>"
      ]
     },
     "metadata": {},
     "output_type": "display_data"
    }
   ],
   "source": [
    "# Create figure-8 gif\n",
    "fig = plt.figure(figsize=(8, 8))\n",
    "camera = Camera(fig)\n",
    "\n",
    "tail = int(steps/10)\n",
    "\n",
    "report_freq = steps/100\n",
    "for t in range(steps):\n",
    "    if t % report_freq == 0:\n",
    "        plt.scatter(x, y, s = 1, c='white')\n",
    "        for n_body in range(n):\n",
    "            if t == 0:\n",
    "                plt.scatter(pos[n_body, 0, t], pos[n_body, 1, t], color=cmap(n_body), label=f'M = {m[n_body]:.2f}')\n",
    "            elif t != 0:\n",
    "                plt.scatter(pos[n_body, 0, t], pos[n_body, 1, t], color=cmap(n_body))\n",
    "            prev_pos = pos[n_body, :, int(max(t - tail, 0)):t + 1]\n",
    "            plt.plot(prev_pos[0], prev_pos[1], alpha=1/2, color=cmap(n_body))\n",
    "        \n",
    "        plt.legend(loc='upper left')\n",
    "        plt.xlabel('x (AU)')\n",
    "        plt.ylabel('y (AU)')\n",
    "        camera.snap()\n",
    "\n",
    "animation = camera.animate(interval=20)\n",
    "animation.save('figure8.gif')"
   ]
  },
  {
   "cell_type": "markdown",
   "metadata": {},
   "source": [
    "---\n",
    "# Periodic Universe"
   ]
  },
  {
   "cell_type": "code",
   "execution_count": 135,
   "metadata": {},
   "outputs": [
    {
     "name": "stdout",
     "output_type": "stream",
     "text": [
      "Stop at t = 559 of 2500: Collision between body 1 and 2\n",
      "Doing another attempt\n",
      "Stop at t = 398 of 2500: Collision between body 1 and 2\n",
      "Body 0 has looped. Pos_y set to 50.0 from -49.80754733398717 (1.0)\n",
      "Body 0 has looped. Pos_x set to 50.0 from -49.93296297078567 (1.0)\n",
      "Body 0 has looped. Pos_y set to 50.0 from -49.76478980359408 (1.0)\n",
      "Body 2 has looped. Pos_x set to -50.0 from 49.878108320027955 (-1.0)\n",
      "Body 1 has looped. Pos_y set to 50.0 from -49.90184064631371 (1.0)\n",
      "Body 2 has looped. Pos_y set to -50.0 from 49.775422666561546 (-1.0)\n",
      "Body 1 has looped. Pos_x set to 50.0 from -49.99694306664129 (1.0)\n",
      "Body 0 has looped. Pos_x set to 50.0 from -49.94166920567308 (1.0)\n",
      "Body 0 has looped. Pos_y set to 50.0 from -49.9970715066718 (1.0)\n",
      "Body 2 has looped. Pos_x set to -50.0 from 49.79116488077465 (-1.0)\n",
      "Body 2 has looped. Pos_y set to -50.0 from 49.90220672751472 (-1.0)\n",
      "Body 0 has looped. Pos_y set to 50.0 from -49.98002871080446 (1.0)\n",
      "Body 1 has looped. Pos_x set to 50.0 from -49.81910187584259 (1.0)\n",
      "Body 1 has looped. Pos_y set to 50.0 from -49.87250526552351 (1.0)\n",
      "Body 2 has looped. Pos_x set to -50.0 from 49.76093026093735 (-1.0)\n",
      "Found a sim in 2 attempts!\n"
     ]
    }
   ],
   "source": [
    "n = 3\n",
    "steps = 2500\n",
    "dt = 3e-3 * 365 * 24 * 60 * 60\n",
    "tf = 0\n",
    "pos, vel, m, rad, tf = main(n, steps, dt, periodic = True)\n",
    "if tf < steps * 0.75:\n",
    "    print('Doing another attempt')\n",
    "\n",
    "attempts = 0\n",
    "while tf < steps * 0.75:\n",
    "    pos, vel, m, rad, tf = main(n, steps, dt, periodic = True)\n",
    "    attempts += 1\n",
    "print(f'Found a sim in {attempts} attempts!')"
   ]
  },
  {
   "cell_type": "code",
   "execution_count": 136,
   "metadata": {},
   "outputs": [
    {
     "name": "stderr",
     "output_type": "stream",
     "text": [
      "MovieWriter ffmpeg unavailable; using Pillow instead.\n"
     ]
    },
    {
     "data": {
      "image/png": "[encoded data removed]",
      "text/plain": [
       "<Figure size 576x576 with 1 Axes>"
      ]
     },
     "metadata": {},
     "output_type": "display_data"
    }
   ],
   "source": [
    "fig = plt.figure(figsize=(8, 8))\n",
    "camera = Camera(fig)\n",
    "plt.xlim(-50, 50)\n",
    "plt.ylim(-50, 50)\n",
    "# Background stars\n",
    "x, y = np.random.uniform(-50, 50, n**3), np.random.uniform(-50, 50, n**3)\n",
    "tail = int(tf/10)\n",
    "\n",
    "report_freq = steps/100\n",
    "for t in range(tf):\n",
    "    if t % report_freq == 0:\n",
    "        plt.scatter(x,  y, s=1, color='white')\n",
    "        for n_body in range(n):\n",
    "            if t == 0:\n",
    "                plt.scatter(pos[n_body, 0, t], pos[n_body, 1, t], s=rad[n_body], color=cmap(n_body), label=f'M = {m[n_body]:.2f}')\n",
    "            elif t != 0:\n",
    "                plt.scatter(pos[n_body, 0, t], pos[n_body, 1, t], s=rad[n_body], color=cmap(n_body))\n",
    "            prev_pos = pos[n_body, :, int(max(t - tail, 0)):t + 1]\n",
    "            plt.plot(prev_pos[0], prev_pos[1], alpha=1/2, color=cmap(n_body))\n",
    "        \n",
    "        plt.legend(loc='upper left')\n",
    "        plt.xlabel('x (AU)')\n",
    "        plt.ylabel('y (AU)')\n",
    "        camera.snap()\n",
    "\n",
    "animation = camera.animate(interval=30)\n",
    "animation.save('periodic.gif')"
   ]
  }
 ],
 "metadata": {
  "kernelspec": {
   "display_name": "Python 3.10.2 64-bit",
   "language": "python",
   "name": "python3"
  },
  "language_info": {
   "codemirror_mode": {
    "name": "ipython",
    "version": 3
   },
   "file_extension": ".py",
   "mimetype": "text/x-python",
   "name": "python",
   "nbconvert_exporter": "python",
   "pygments_lexer": "ipython3",
   "version": "3.10.2"
  },
  "orig_nbformat": 4,
  "vscode": {
   "interpreter": {
    "hash": "427d1dd95ba83fc375134da6d10547fe2d6eb01b1e1e4077f716ef65a23f3c64"
   }
  }
 },
 "nbformat": 4,
 "nbformat_minor": 2
}
